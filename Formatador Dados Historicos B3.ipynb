{
 "cells": [
  {
   "cell_type": "markdown",
   "id": "389ff21c",
   "metadata": {},
   "source": [
    "Site oficial com as cotações:\n",
    "\n",
    "https://www.b3.com.br/pt_br/market-data-e-indices/servicos-de-dados/market-data/historico/mercado-a-vista/series-historicas/"
   ]
  },
  {
   "cell_type": "code",
   "execution_count": 48,
   "id": "3fd5ce30",
   "metadata": {},
   "outputs": [],
   "source": [
    "import pandas as pd\n",
    "import os\n",
    "from datetime import datetime"
   ]
  },
  {
   "cell_type": "code",
   "execution_count": 49,
   "id": "314f350e",
   "metadata": {},
   "outputs": [],
   "source": [
    "usr = os.environ.get( \"USERNAME\" )\n",
    "path = f'C:\\\\Users\\\\{usr}\\\\Downloads\\\\cotacoes_diarias_B3\\\\' \n",
    "lista_arquivos = os.listdir(path)\n",
    "tam_pos = [2,8,2,12,3,12,10,3,4,13,13,13,13,13,13,13,5,18,18,13,1,8,7,13,12,12]                   "
   ]
  },
  {
   "cell_type": "code",
   "execution_count": 50,
   "id": "b3279837",
   "metadata": {},
   "outputs": [],
   "source": [
    "colunas = [\n",
    "            'TIPO_DE_REGISTRO', 'DATA', 'CÓDIGO_BDI', 'CÓDIGO_NEGOCIÇÃO', 'TIPO_DE_MERCADO', 'NOME_DA_EMPRESA', 'ESPC_DO_PAPEL', \n",
    "            'PRAZO_MERCADO_ATERMO', 'MOEDA_DE_REFERÊNCIA', 'PREÇO_DE_ABERTURA', 'PREÇO_MÁXIMO', 'PREÇO_MÍNIMO', 'PREÇO_MÉDIO', \n",
    "            'PREÇO_FECHAMENTO', 'PREÇO_DA_MELHOR_OFERTA_DE_COMPRA', 'PREÇO_DA_MELHOR_OFERTA_DE_VENDA', 'TOTAL_DE_NEGÓCIOS_EFETUADOS',\n",
    "            'TOTAL_DE_TÍTULOS_NEGOCIADOS', 'VOLUME_TOTAL_NEGOCIADOS', 'PREEXE', 'INDOPC', 'DATVEN', 'FATCOT', 'PTOEXE', 'CODISI', 'DISMES'\n",
    "           ]\n",
    "\n"
   ]
  },
  {
   "cell_type": "code",
   "execution_count": 51,
   "id": "3e0f38b5",
   "metadata": {},
   "outputs": [],
   "source": [
    "colunas_removidas = [\n",
    "                        'TIPO_DE_REGISTRO', 'CÓDIGO_BDI', 'ESPC_DO_PAPEL', 'PRAZO_MERCADO_ATERMO', 'MOEDA_DE_REFERÊNCIA',\n",
    "                        'PREÇO_MÉDIO', 'PREÇO_DA_MELHOR_OFERTA_DE_COMPRA', 'PREÇO_DA_MELHOR_OFERTA_DE_VENDA', 'TOTAL_DE_NEGÓCIOS_EFETUADOS',\n",
    "                        'TOTAL_DE_TÍTULOS_NEGOCIADOS', 'PREEXE', 'INDOPC', 'DATVEN', 'FATCOT', 'PTOEXE', 'CODISI', 'DISMES'\n",
    "                     ]"
   ]
  },
  {
   "cell_type": "code",
   "execution_count": 52,
   "id": "4797daf7",
   "metadata": {},
   "outputs": [],
   "source": [
    "colunas_decimal = [\n",
    "                    'PREÇO_DE_ABERTURA',\n",
    "                    'PREÇO_MÁXIMO',\n",
    "                    'PREÇO_MÍNIMO',\n",
    "                    'PREÇO_FECHAMENTO',\n",
    "                    'VOLUME_TOTAL_NEGOCIADOS'\n",
    "                   ]"
   ]
  },
  {
   "cell_type": "code",
   "execution_count": 53,
   "id": "1dffd9db",
   "metadata": {},
   "outputs": [],
   "source": [
    "for arquivo in lista_arquivos:\n",
    "    caminho_arquivo = path + arquivo\n",
    "    df = pd.read_fwf(caminho_arquivo, widths= tam_pos, header=0)\n",
    "    df.columns = colunas\n",
    "    df.drop(colunas_removidas,axis=1, inplace=True)\n",
    "    df = df[(df['TIPO_DE_MERCADO'] == 10) | (df['TIPO_DE_MERCADO'] == 20)]\n",
    "    \n",
    "    df['DATA'] = df['DATA'].apply(lambda x: datetime.strptime(x, '%Y%m%d').date())\n",
    "    df['DATA'] = pd.to_datetime(df['DATA'])\n",
    "    \n",
    "    for coluna in colunas_decimal:\n",
    "        df[coluna] = [x/100 for x in df[coluna]]\n",
    "    \n",
    "    arquivo = arquivo.split(sep='.')\n",
    "    df.to_parquet(arquivo[0] + '.parquet')\n",
    "    "
   ]
  }
 ],
 "metadata": {
  "kernelspec": {
   "display_name": "Python 3",
   "language": "python",
   "name": "python3"
  },
  "language_info": {
   "codemirror_mode": {
    "name": "ipython",
    "version": 3
   },
   "file_extension": ".py",
   "mimetype": "text/x-python",
   "name": "python",
   "nbconvert_exporter": "python",
   "pygments_lexer": "ipython3",
   "version": "3.13.0"
  }
 },
 "nbformat": 4,
 "nbformat_minor": 5
}
